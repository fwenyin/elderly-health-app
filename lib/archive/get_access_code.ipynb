{
 "cells": [
  {
   "cell_type": "code",
   "execution_count": 1,
   "metadata": {},
   "outputs": [],
   "source": [
    "import google.auth\n",
    "from google.oauth2 import service_account\n",
    "from google.auth.transport.requests import Request\n",
    "\n",
    "# Path to your service account key file\n",
    "KEY_FILE_PATH = 'elderly-health-app-firebase-adminsdk-8l0pm-e9c6eb29dc.json'\n",
    "\n",
    "# Scopes needed for Firebase Cloud Messaging\n",
    "SCOPES = ['https://www.googleapis.com/auth/firebase.messaging']\n"
   ]
  },
  {
   "cell_type": "code",
   "execution_count": 2,
   "metadata": {},
   "outputs": [],
   "source": [
    "def obtain_access_token(key_file):\n",
    "    credentials = service_account.Credentials.from_service_account_file(\n",
    "        key_file, scopes=SCOPES)\n",
    "    credentials.refresh(Request())\n",
    "\n",
    "    return credentials.token"
   ]
  },
  {
   "cell_type": "code",
   "execution_count": 3,
   "metadata": {},
   "outputs": [
    {
     "data": {
      "text/plain": [
       "'ya29.c.c0AY_VpZi8XR6Qqy6aeW7yMq3szZwFXpiGYHDvqAxML7Q3GFCz84KcV4ozhBLaOnEFZMyQds32RqrmegY7vAlQwZiAnQi6HI6bTXTBKal5BXGkVRZsXtGT-bnBargajxyoNFGpP-tTiAgWfuS0XbCe9eeJL7Ed9cy_CfxBQqyrR0omkKZD0Q3z6DQhMhscapfosSLagQ1jG4kJ-ZqPuHjGaJLVtoP2uitVGLvVMCUuRAVqvrS_GLcOZpOPPKADpQWdYXq67Q5uZEFLswDRPqDtJpkWSXVB7T8qVNj8KK78qNK2qmOw64wa1wVdiJiQtGYPG7bWFVFOunggGqmQiJilo4lXyd_bUj-p8gEgwxh1fA19IH-CdjuvJ3C4G385D7Jsz8s9y_nWx6xezvszb5BJBb1hM10mlv1Ii5Q9RktWOqbaMi3cfJ6w1f8gd261uiyhz2jz_RUbYZ5yX78Q_J1k08xM-1ycUQIgdoJ4VR15Mf1uuWxh2Qh-JFuS2YuYjuW4Mm8Y0QiFJWMzpMs4_3pM5bvSYtzht635aRJgwsBdpBilFtqygZ7V2U-nFUsXh-py8qitmUgjuJRtwXhWUMmkp6cU9ZQV_o_tetoq34vz6MbQ36i92syRh1dzxrUhS6SyuMSciBRhXRhyeJfY58wtjl-U7uipu273Wt2e8dvsbOdYw76Yxs8J_jJ_S2gb4qM2zR6Bqi6_1IaoruzMwwRQpq8W4h5F-1tsj3bvsYltozjtpphz2ZOiRuh5xlxSZVQd-dWUur9zkf2qyXi0aY5cBY06S4hctuuVvdlMuwxpm0gR57lOjdYF62pxbWB8mWxBhtJI-z-o5FMJYgsnmZcWR8i6cc2_zZBWZg6yuR6ffrkZyn356Bnoxd9o1ZSBZl75JQponk0gJ7a9fWIM0B46kOj-I9Mcyht9QpF8Wteokmru7ngcdX9sq93gm0p63ItjF2l5M8ZOy3-lebQ8mRuh8dxg2shufRQsMV_781U2kBeJoiW1nkXF5r1'"
      ]
     },
     "execution_count": 3,
     "metadata": {},
     "output_type": "execute_result"
    }
   ],
   "source": [
    "obtain_access_token(KEY_FILE_PATH)"
   ]
  }
 ],
 "metadata": {
  "kernelspec": {
   "display_name": "Python 3",
   "language": "python",
   "name": "python3"
  },
  "language_info": {
   "codemirror_mode": {
    "name": "ipython",
    "version": 3
   },
   "file_extension": ".py",
   "mimetype": "text/x-python",
   "name": "python",
   "nbconvert_exporter": "python",
   "pygments_lexer": "ipython3",
   "version": "3.8.5"
  },
  "orig_nbformat": 4
 },
 "nbformat": 4,
 "nbformat_minor": 2
}
